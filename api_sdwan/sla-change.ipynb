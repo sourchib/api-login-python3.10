{
 "cells": [
  {
   "cell_type": "code",
   "execution_count": 34,
   "id": "3d441f45",
   "metadata": {},
   "outputs": [],
   "source": [
    "import requests\n",
    "import urllib3\n",
    "import click\n",
    "from rich.console import Console\n",
    "from rich.table import Table\n",
    "from rich.text import Text\n",
    "import datetime\n",
    "import json\n",
    "urllib3.disable_warnings(urllib3.exceptions.InsecureRequestWarning)"
   ]
  },
  {
   "cell_type": "code",
   "execution_count": null,
   "id": "6f1c6863",
   "metadata": {},
   "outputs": [],
   "source": [
    "#autentifikasi\n",
    "urllib3.disable_warnings()\n",
    "base_url =\"https://10.181.7.18\"\n",
    "auth_endpoint = \"/j_security_check\"\n",
    "credentials = {\n",
    "    \"j_username\" : \"msi\",\n",
    "    \"j_password\" : \"P@ssw0rd\"\n",
    "}\n",
    "login = requests.session()\n",
    "login_response = login.post(url=f\"{base_url}{auth_endpoint}\", data = credentials, verify =False)\n",
    "if not login_response.ok or login_response.text:\n",
    "    print(\"Login Failed\")\n",
    "    import sys\n",
    "    sys.exit(1)\n",
    "else :\n",
    "    print(\"Welcome is Vmanage\")"
   ]
  },
  {
   "cell_type": "code",
   "execution_count": 36,
   "id": "99f89767",
   "metadata": {},
   "outputs": [
    {
     "ename": "NameError",
     "evalue": "name 'cli_sla' is not defined",
     "output_type": "error",
     "traceback": [
      "\u001b[1;31m---------------------------------------------------------------------------\u001b[0m",
      "\u001b[1;31mNameError\u001b[0m                                 Traceback (most recent call last)",
      "Cell \u001b[1;32mIn[36], line 1\u001b[0m\n\u001b[1;32m----> 1\u001b[0m \u001b[38;5;129m@cli_sla\u001b[39m\u001b[38;5;241m.\u001b[39mcommand(name\u001b[38;5;241m=\u001b[39m\u001b[38;5;124m\"\u001b[39m\u001b[38;5;124mlist\u001b[39m\u001b[38;5;124m\"\u001b[39m, help\u001b[38;5;241m=\u001b[39m\u001b[38;5;124m\"\u001b[39m\u001b[38;5;124mGet list of SLA Classes\u001b[39m\u001b[38;5;124m\"\u001b[39m)\n\u001b[0;32m      2\u001b[0m \u001b[38;5;28;01mdef\u001b[39;00m \u001b[38;5;21msla_list\u001b[39m():\n\u001b[0;32m      3\u001b[0m     headers \u001b[38;5;241m=\u001b[39m authentication(vmanage)\n\u001b[0;32m      4\u001b[0m     api \u001b[38;5;241m=\u001b[39m \u001b[38;5;124m\"\u001b[39m\u001b[38;5;124m/dataservice/template/policy/list/sla\u001b[39m\u001b[38;5;124m\"\u001b[39m\n",
      "\u001b[1;31mNameError\u001b[0m: name 'cli_sla' is not defined"
     ]
    }
   ],
   "source": [
    "@cli_sla.command(name=\"list\", help=\"Get list of SLA Classes\")\n",
    "def sla_list():\n",
    "    headers = authentication(vmanage)\n",
    "    api = \"/dataservice/template/policy/list/sla\"\n",
    "    url = base_url + api\n",
    "    response = requests.get(url=url, headers=headers, verify=False)\n",
    "    if response.status_code == 200:\n",
    "        items = response.json()['data']\n",
    "    else:\n",
    "        print(\"Error:: \" + str(response.text))\n",
    "        exit()\n",
    "    console = Console()\n",
    "    table = Table(\n",
    "        \"Name\", \"Loss (%)\", \"Latency (ms)\", \"jitter (ms)\", \"Reference Count\",\n",
    "        \"Updated by\", \"SLA ID\", \"Last Updated\")"
   ]
  },
  {
   "cell_type": "code",
   "execution_count": null,
   "id": "c4fdb232",
   "metadata": {},
   "outputs": [],
   "source": []
  },
  {
   "cell_type": "code",
   "execution_count": null,
   "id": "06ae9288",
   "metadata": {},
   "outputs": [],
   "source": []
  }
 ],
 "metadata": {
  "kernelspec": {
   "display_name": "Python 3 (ipykernel)",
   "language": "python",
   "name": "python3"
  },
  "language_info": {
   "codemirror_mode": {
    "name": "ipython",
    "version": 3
   },
   "file_extension": ".py",
   "mimetype": "text/x-python",
   "name": "python",
   "nbconvert_exporter": "python",
   "pygments_lexer": "ipython3",
   "version": "3.11.3"
  }
 },
 "nbformat": 4,
 "nbformat_minor": 5
}
